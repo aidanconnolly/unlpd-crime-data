{
 "cells": [
  {
   "cell_type": "markdown",
   "metadata": {},
   "source": [
    "# UNLPD Crime Analysis\n",
    "The goal of this project is to analyze University of Nebraska-Lincoln Police Department crime data to find trends. The next goal is to use that analysis to identify trends as they happen. Finally, the next goal is to write a program that will use those trends to write timely stories."
   ]
  },
  {
   "cell_type": "markdown",
   "metadata": {},
   "source": [
    "## Identify trends\n",
    "\n",
    "Using pandas, I analyzed 1"
   ]
  },
  {
   "cell_type": "code",
   "execution_count": 1,
   "metadata": {
    "collapsed": true
   },
   "outputs": [],
   "source": [
    "import pandas as pd\n",
    "import dateutil"
   ]
  },
  {
   "cell_type": "code",
   "execution_count": 4,
   "metadata": {
    "collapsed": true
   },
   "outputs": [],
   "source": [
    "df = pd.read_csv('original_data/all_years_new.csv')"
   ]
  },
  {
   "cell_type": "code",
   "execution_count": 5,
   "metadata": {},
   "outputs": [
    {
     "data": {
      "text/plain": [
       "0             1/1/05 0:33\n",
       "1             1/1/05 1:34\n",
       "2            1/1/05 15:30\n",
       "3            1/1/05 19:40\n",
       "4            1/2/05 16:58\n",
       "5            1/4/05 10:08\n",
       "6            1/4/05 12:29\n",
       "7            1/4/05 23:43\n",
       "8             1/6/05 7:44\n",
       "9            1/6/05 10:53\n",
       "10           1/6/05 12:37\n",
       "11            1/7/05 1:16\n",
       "12            1/7/05 1:47\n",
       "13           1/7/05 13:29\n",
       "14           1/7/05 13:38\n",
       "15           1/7/05 16:10\n",
       "16            1/8/05 1:14\n",
       "17           1/8/05 14:26\n",
       "18           1/8/05 23:19\n",
       "19            1/9/05 1:17\n",
       "20            1/9/05 3:45\n",
       "21          1/10/05 13:50\n",
       "22          1/10/05 14:08\n",
       "23          1/10/05 15:04\n",
       "24          1/10/05 18:19\n",
       "25          1/10/05 21:56\n",
       "26          1/11/05 10:46\n",
       "27          1/11/05 12:12\n",
       "28           1/12/05 0:42\n",
       "29          1/12/05 13:55\n",
       "               ...       \n",
       "24212    12/13/2017 12:05\n",
       "24213    12/13/2017 12:16\n",
       "24214    12/13/2017 14:11\n",
       "24215    12/13/2017 14:42\n",
       "24216    12/14/2017 13:27\n",
       "24217    12/14/2017 17:08\n",
       "24218    12/14/2017 18:45\n",
       "24219     12/15/2017 8:42\n",
       "24220    12/15/2017 10:15\n",
       "24221    12/15/2017 12:27\n",
       "24222    12/15/2017 13:20\n",
       "24223     12/17/2017 0:43\n",
       "24224     12/17/2017 0:54\n",
       "24225     12/17/2017 1:11\n",
       "24226     12/17/2017 2:14\n",
       "24227    12/17/2017 10:40\n",
       "24228    12/18/2017 13:41\n",
       "24229    12/19/2017 10:24\n",
       "24230    12/19/2017 16:36\n",
       "24231    12/21/2017 14:15\n",
       "24232    12/21/2017 17:43\n",
       "24233     12/23/2017 1:55\n",
       "24234    12/23/2017 13:08\n",
       "24235    12/23/2017 22:50\n",
       "24236    12/23/2017 23:27\n",
       "24237     12/24/2017 0:12\n",
       "24238     12/25/2017 2:26\n",
       "24239    12/28/2017 21:07\n",
       "24240    12/28/2017 23:09\n",
       "24241     12/30/2017 1:50\n",
       "Name: Reported, Length: 24242, dtype: object"
      ]
     },
     "execution_count": 5,
     "metadata": {},
     "output_type": "execute_result"
    }
   ],
   "source": [
    "df['Reported']"
   ]
  },
  {
   "cell_type": "code",
   "execution_count": null,
   "metadata": {
    "collapsed": true
   },
   "outputs": [],
   "source": []
  }
 ],
 "metadata": {
  "kernelspec": {
   "display_name": "Python 3",
   "language": "python",
   "name": "python3"
  },
  "language_info": {
   "codemirror_mode": {
    "name": "ipython",
    "version": 3
   },
   "file_extension": ".py",
   "mimetype": "text/x-python",
   "name": "python",
   "nbconvert_exporter": "python",
   "pygments_lexer": "ipython3",
   "version": "3.6.2"
  }
 },
 "nbformat": 4,
 "nbformat_minor": 2
}
