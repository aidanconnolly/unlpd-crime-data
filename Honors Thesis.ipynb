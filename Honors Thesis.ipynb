{
 "cells": [
  {
   "cell_type": "markdown",
   "metadata": {},
   "source": [
    "# UNLPD Crime Analysis\n",
    "The goal of this project was to analyze University of Nebraska-Lincoln Police Department crime data to identify when crime reports are abnormally high or low. To do so, I collected 13 years of data from UNLPD, taken from the [Daily Crime and Fire Log](https://scsapps.unl.edu/policereports/MainPage.aspx). This program cleans up that data and calculates the average number of occurrences for each crime in a normal month.  \n",
    "Then, it gets the data for this month. If this month's counts are abnormally high or low, a message is created, which is sent to a Slack channel to notify those who are interested."
   ]
  },
  {
   "cell_type": "markdown",
   "metadata": {},
   "source": [
    "## Requirements\n",
    "This program requires `pandas`, `slackclient` and `selenium`. It also requires a Slack bot API token. More information on how to set up Slack is below."
   ]
  },
  {
   "cell_type": "markdown",
   "metadata": {},
   "source": [
    "## Imports and functions\n",
    "These are the imports and functions needed to run the rest of the program."
   ]
  },
  {
   "cell_type": "markdown",
   "metadata": {},
   "source": [
    "### Imports  \n",
    "First, import the necessary libraries."
   ]
  },
  {
   "cell_type": "code",
   "execution_count": 1,
   "metadata": {
    "collapsed": true
   },
   "outputs": [],
   "source": [
    "import os #To get Slack API environment variable\n",
    "import pandas as pd #For most data manipulations\n",
    "import subprocess #To run in2csv\n",
    "from io import StringIO #To convert a string to a file\n",
    "from collections import defaultdict #For counting crimes\n",
    "from datetime import datetime #To check today's date\n",
    "from calendar import monthrange #To find last day of month\n",
    "from slackclient import SlackClient #To post to Slack\n",
    "from selenium import webdriver #To scrape UNLPD's data"
   ]
  },
  {
   "cell_type": "markdown",
   "metadata": {},
   "source": [
    "### clean_data()\n",
    "This checks the data to make sure it's valid. \n",
    "Then, it removes the currency characters. \n",
    "It fixes some data types, and it creates a new column with the month of each crime. \n",
    "Finally, it sets the index of the dataframe to the Reported column."
   ]
  },
  {
   "cell_type": "code",
   "execution_count": 21,
   "metadata": {
    "collapsed": true
   },
   "outputs": [],
   "source": [
    "def clean_data(df): \n",
    "    # Make sure there are no null values for the Case Number, Reported time, Location, Stolen amount and Damaged amount\n",
    "    assert(df['Case #'].count() == len(df))\n",
    "    assert(df['Reported'].count() == len(df))\n",
    "    assert(df['Location'].count() == len(df))\n",
    "    assert(df['Stolen'].count() == len(df))\n",
    "    assert(df['Damaged'].count() == len(df))\n",
    "    \n",
    "    #Replace non-numerical characters and cast data type to float\n",
    "    df['Stolen'] = df['Stolen'].str.replace(',','')\n",
    "    df['Stolen'] = df['Stolen'].str.replace('$','')\n",
    "    df['Stolen'] = df['Stolen'].astype(float)\n",
    "    df['Damaged'] = df['Damaged'].str.replace(',','')\n",
    "    df['Damaged'] = df['Damaged'].str.replace('$','')\n",
    "    df['Damaged'] = df['Damaged'].astype(float)\n",
    "    \n",
    "    #Cast data type to datetime\n",
    "    df['Reported'] = pd.to_datetime(df['Reported'])\n",
    "    \n",
    "    #Double-check data types\n",
    "    print(df.dtypes)\n",
    "    \n",
    "    #Create a new column with just the year and month from the Reported column\n",
    "    df['Month'] = df['Reported'].dt.to_period('M')\n",
    "    \n",
    "    #Set index to Reported column; allows for slicing by month\n",
    "    df2 = df.set_index(['Reported'])\n",
    "    \n",
    "    return df2"
   ]
  },
  {
   "cell_type": "markdown",
   "metadata": {},
   "source": [
    "### count_crimes()\n",
    "This counts the occurrences of crimes in a given dataframe.\n",
    "For each type of crime, it slices the data by month.\n",
    "Then it counts how many times the crime appears in that month.\n",
    "Those counts are saved to a dictionary.\n",
    "Finally, the list of dictionaries is converted back to a dataframe.\n",
    "Pass the all_years flag if your data contains more than one month."
   ]
  },
  {
   "cell_type": "code",
   "execution_count": 22,
   "metadata": {
    "collapsed": true
   },
   "outputs": [],
   "source": [
    "def count_crimes(df, all_years=False):\n",
    "    #This holds the dictionary for each crime\n",
    "    months_count = []\n",
    "    #For each crime present in the dataframe\n",
    "    for crime in df['Incident Code'].unique():\n",
    "        print(crime)\n",
    "        crime_dict = defaultdict(list)\n",
    "        crime_dict['Crime'] = crime\n",
    "        #For each month in the dataframe\n",
    "        for month in df['Month'].unique():\n",
    "            #Slice the dataframe for one month's data\n",
    "            month_subset = df[str(month)]\n",
    "            #Filter the subset for instances of the crime\n",
    "            crime_subset = month_subset[month_subset['Incident Code'] == crime]\n",
    "            #If multiple months, save the count with the month\n",
    "            if all_years:\n",
    "                crime_dict[str(month)] = len(crime_subset)\n",
    "            #Otherwise, just save it with \"Month\"\n",
    "            else:\n",
    "                crime_dict['Month'] = len(crime_subset)\n",
    "        #Append the dictionary to the months_count list\n",
    "        months_count.append(crime_dict)\n",
    "    #Convert the list into another dataframe\n",
    "    months_count_df = pd.DataFrame(months_count)\n",
    "    #To help with speed, save it to a csv\n",
    "    if all_years:\n",
    "        months_count_df.to_csv('month_count.csv', index=False)\n",
    "    return months_count_df"
   ]
  },
  {
   "cell_type": "markdown",
   "metadata": {},
   "source": [
    "### calculate_stats()\n",
    "This calculates the mean number of occurences for each crime.\n",
    "Then it calculates the standard deviation.\n",
    "Finally, it creates upper and lower thresholds.\n",
    "Upper threshold equals mean plus 1 standard deviation.\n",
    "Lower threshold equals mean minus 1 standard deviation."
   ]
  },
  {
   "cell_type": "code",
   "execution_count": 20,
   "metadata": {
    "collapsed": true
   },
   "outputs": [],
   "source": [
    "def calculate_stats(df):\n",
    "    #Creates a dataframe with the unique crimes\n",
    "    std_df = df.filter(['Crime'], axis=1)\n",
    "    #Adds a column with the mean count for each crime\n",
    "    std_df['mean'] = df.mean(axis=1)\n",
    "    #Adds a column with the standard deviation for each crime\n",
    "    std_df['std'] = df.std(axis=1)\n",
    "    #Adds a column with a lower threshold\n",
    "    std_df['lower'] = std_df['mean'] - std_df['std']\n",
    "    #Adds a column with an upper threshold\n",
    "    std_df['upper'] = std_df['mean'] + std_df['std']\n",
    "    #Save the data to a csv\n",
    "    std_df.to_csv('std.csv', index=False)\n",
    "    return std_df"
   ]
  },
  {
   "cell_type": "markdown",
   "metadata": {},
   "source": [
    "### check_last_day()\n",
    "This checks today's date to see if it's the last day of the month. It uses the monthrange function from the calendar library."
   ]
  },
  {
   "cell_type": "code",
   "execution_count": null,
   "metadata": {},
   "outputs": [],
   "source": [
    "def check_last_day():\n",
    "    #Get today's date\n",
    "    today = datetime.today()\n",
    "    #monthrange(year, month) returns weekday of first day of the month and number of days in month, for the specified year and month.\n",
    "    if today.day == monthrange(today.year, today.month)[1]:\n",
    "        return True\n",
    "    else:\n",
    "        return False"
   ]
  },
  {
   "cell_type": "markdown",
   "metadata": {},
   "source": [
    "### post_to_slack()\n",
    "This sends an API call to Slack to post a message to a specified channel."
   ]
  },
  {
   "cell_type": "code",
   "execution_count": null,
   "metadata": {},
   "outputs": [],
   "source": [
    "def post_to_slack(message):\n",
    "    #Send the API call to post a message\n",
    "    slack_client.api_call(\"chat.postMessage\", channel='C49E1F45R', text=message, as_user=True)"
   ]
  },
  {
   "cell_type": "markdown",
   "metadata": {},
   "source": [
    "### find_outliers()\n",
    "This checks the data to see which crimes have crossed the threshold. \n",
    "If it's not the last day of the month, it will only check crimes that have occurred this month for crossing the upper threshold. \n",
    "If it is the last day of the month, it will check all the possible crimes for crossing the upper threshold or not meeting the lower threshold.\n",
    "The `flagged_crimes` list is a list of crimes that will create an alert. We chose these for our purposes, but you can add or remove crimes as you wish.\n",
    "If a crime met a threshold and it's in `flagged_crimes`, it will create a message and send it to Slack using `post_to_slack()`."
   ]
  },
  {
   "cell_type": "code",
   "execution_count": null,
   "metadata": {},
   "outputs": [],
   "source": [
    "def find_outliers(all_years_stats, month_count):\n",
    "    #This is the list of crimes we decided we were interested in\n",
    "    flagged_crimes = [\n",
    "        \"LOST OR STOLEN ITEM\",\n",
    "        \"FRAUD - CREDIT CARDS/ATM/BANK CARD\",\n",
    "        \"LARCENY - FROM MOTOR VEHICLE\",\n",
    "        \"NARCOTICS - POSSESSION\",\n",
    "        \"BURGLARY\",\n",
    "        \"LARCENY - FROM BUILDING\",\n",
    "        \"ALCOHOL - DWI\",\n",
    "        \"ALCOHOL - DRUNK\",\n",
    "        \"ALCOHOL - MINOR IN POSSESSION\",\n",
    "        \"VANDALISM - OTHER\",\n",
    "        \"LARCENY - STOLEN BIKE\",\n",
    "        \"VANDALISM - BY GRAFFITI\",\n",
    "        \"NARCOTICS - OTHER\",\n",
    "        \"NARCOTICS - SALE/DELIVER\",\n",
    "    ]\n",
    "    #If it's the last day, merge the data and keep everything\n",
    "    if check_last_day():\n",
    "        merged = pd.merge(all_years_stats, month_count, on='Crime', how='outer')\n",
    "    #Otherwise, only keep the data for crimes that have happened this month\n",
    "    else:\n",
    "        merged = pd.merge(all_years_stats, month_count, on='Crime', how='inner')\n",
    "    #For each row, check if the count has crossed the upper bound\n",
    "    for index, row in merged.iterrows():\n",
    "        if row['upper'] < row['Month'] and row['Crime'] in flagged_crimes:\n",
    "            #If it has happened more than once, use plural words\n",
    "            if row['Month'] != 1:\n",
    "                message = \"This month, there have been {month_total} {crime} incidents reported. There are normally {mean} incidents reported in a month, and one standard deviation above is {upper_bound}.\".format(crime=row['Crime'], upper_bound=round(row['upper'], 2), month_total=row['Month'], mean=round(row['mean'], 2))\n",
    "            #Otherwise, use singular words\n",
    "            else:\n",
    "                message = \"This month, there has been {month_total} {crime} incident reported. There are normally {mean} incidents reported in a month, and one standard deviation above is {upper_bound}.\".format(crime=row['Crime'], upper_bound=round(row['upper'], 2), month_total=row['Month'], mean=round(row['mean'], 2))\n",
    "            #Print the message here\n",
    "            print(message)\n",
    "            #Post the message to Slack\n",
    "            post_to_slack(message)"
   ]
  },
  {
   "cell_type": "markdown",
   "metadata": {},
   "source": [
    "## Preparing the historical data\n",
    "This works with a csv of historical data. I created it by downloading all the crimes for each year and concatenating them into one file. It reads the file into a Pandas dataframe and runs the `clean_data()`, `count_crimes()` and `calculate_stats()` functions on it."
   ]
  },
  {
   "cell_type": "code",
   "execution_count": 12,
   "metadata": {
    "scrolled": true
   },
   "outputs": [
    {
     "name": "stdout",
     "output_type": "stream",
     "text": [
      "Case #                    object\n",
      "Incident Code             object\n",
      "Reported          datetime64[ns]\n",
      "Case Status               object\n",
      "Start Occurred            object\n",
      "End Occurred              object\n",
      "Building                  object\n",
      "Location                  object\n",
      "Stolen                   float64\n",
      "Damaged                  float64\n",
      "Summary                   object\n",
      "dtype: object\n"
     ]
    }
   ],
   "source": [
    "#Read in the csv file\n",
    "all_years = pd.read_csv('original_data/all_years.csv')\n",
    "#Clean the data\n",
    "all_years_clean = clean_data(all_years)\n",
    "#Count the crime occurences\n",
    "all_years_count = count_crimes(all_years_clean, all_years=True)\n",
    "#Calculate the thresholds\n",
    "all_years_stats = calculate_stats(all_years_count)"
   ]
  },
  {
   "cell_type": "markdown",
   "metadata": {},
   "source": [
    "### To use the stats data without recalculating it:\n",
    "The previous cell can take a while to run, so the next cell just uses the csv that is written during the `calculate_stats()` function."
   ]
  },
  {
   "cell_type": "code",
   "execution_count": 5,
   "metadata": {
    "collapsed": true
   },
   "outputs": [],
   "source": [
    "#This pulls the most recent saved csv\n",
    "all_years_stats = pd.read_csv('std.csv')"
   ]
  },
  {
   "cell_type": "markdown",
   "metadata": {},
   "source": [
    "## Finding current totals\n",
    "Once the historical data is prepared, the next step is to check this month's data against it."
   ]
  },
  {
   "cell_type": "markdown",
   "metadata": {},
   "source": [
    "### Downloading this month's data\n",
    "This uses selenium to get this month's data.\n",
    "It opens an instance of Google Chrome.\n",
    "Then, it fills out the forms to access the data.\n",
    "Finally, it downloads the csv, likely to your downloads folder."
   ]
  },
  {
   "cell_type": "code",
   "execution_count": 6,
   "metadata": {
    "collapsed": true
   },
   "outputs": [],
   "source": [
    "#This is needed to set up selenium\n",
    "path_to_chromedriver = '/Users/Aidan/Downloads/chromedriver'\n",
    "browser = webdriver.Chrome(executable_path=path_to_chromedriver)\n",
    "#The URL to the Daily Crime and Fire Log\n",
    "url = \"https://scsapps.unl.edu/policereports/MainPage.aspx\"\n",
    "#Go to the URL\n",
    "browser.get(url)\n",
    "#Find the advanced search button and click it\n",
    "browser.find_element_by_id('ctl00_ContentPlaceHolder1_AdvancedSearchButton').click()\n",
    "#Find the first date field, hit tab and hit '01'. \n",
    "#This sets the date to the first day of the month\n",
    "browser.find_element_by_id('ctl00_ContentPlaceHolder1_DateRange_MonthText1').send_keys('\\t01')\n",
    "#Find the search button and click it\n",
    "browser.find_element_by_id('ctl00_ContentPlaceHolder1_SearchButton').click()\n",
    "#Switch to the iframe on the page\n",
    "browser.switch_to.frame(browser.find_element_by_id('ctl00_ContentPlaceHolder1_ViewPort'))\n",
    "#Find the export button and click it\n",
    "browser.find_element_by_id('ExportButton').click()"
   ]
  },
  {
   "cell_type": "markdown",
   "metadata": {},
   "source": [
    "### Converting the data to a dataframe\n",
    "Once this month's data is downloaded, we need to bring it in here. Be warned, this is assuming the file has the generic name given by UNLPD. If you have another copy in the folder from earlier, your new copy will have (1) after it, causing you to not use the new file.  \n",
    "Once we get the data, we need to prepare it. So, this converts it from an Excel file to a csv using `in2csv`. Since `in2csv` is run from the command line, I used subprocess to run it here. `StringIO` converts the string returned by `in2csv` into a file to read into a dataframe. The first eight rows are skipped to remove the junk at the top of the downloaded file."
   ]
  },
  {
   "cell_type": "code",
   "execution_count": 6,
   "metadata": {
    "collapsed": true
   },
   "outputs": [],
   "source": [
    "#Runs in2csv on the downloaded file and converts it to UTF-8\n",
    "csv_data = subprocess.check_output([\"in2csv\", \"/Users/Aidan/Downloads/DailyCrimeLogSummary.xls\"]).decode(\"utf-8\")\n",
    "#Creates a file instance for pandas to use on the next line\n",
    "csv_file_instance = StringIO(csv_data)\n",
    "#Reads in the csv to a dataframe, skipping the first eight rows\n",
    "month_df = pd.read_csv(csv_file_instance, skiprows=8)"
   ]
  },
  {
   "cell_type": "markdown",
   "metadata": {},
   "source": [
    "Next, we run the data through the same cleaning and counting functions as our historical data."
   ]
  },
  {
   "cell_type": "code",
   "execution_count": 7,
   "metadata": {
    "scrolled": true
   },
   "outputs": [
    {
     "name": "stdout",
     "output_type": "stream",
     "text": [
      "Case #                    object\n",
      "Incident Code             object\n",
      "Reported          datetime64[ns]\n",
      "Case Status               object\n",
      "Start Occurred            object\n",
      "End Occurred              object\n",
      "Building                  object\n",
      "Location                  object\n",
      "Stolen                   float64\n",
      "Damaged                  float64\n",
      "Summary                   object\n",
      "dtype: object\n",
      "LOST OR STOLEN ITEM\n",
      "NARCOTICS - POSSESSION\n",
      "ALCOHOL - MINOR IN POSSESSION\n",
      "MISC - OTHER\n",
      "ACCIDENTS - P.D. H&R NOT REPORTABLE\n",
      "LARCENY - STOLEN BIKE\n",
      "ALCOHOL - DWI\n",
      "VANDALISM - BY GRAFFITI\n",
      "ALCOHOL - DRUNK\n",
      "DISTURBANCE - OTHER\n",
      "SUSPICIOUS VEHICLE\n",
      "MEDICAL EMERGENCY\n",
      "TRESPASSING\n",
      "TELEPHONE - OBSCENE CALLS\n",
      "VANDALISM - OTHER\n",
      "FIRE - FALSE ALARM\n",
      "LARCENY - FROM BUILDING\n",
      "LARCENY - SHOPLIFTING\n",
      "SS - CHECK WELFARE OF PERSON\n",
      "ASSAULT - DOMESTIC\n",
      "NARCOTICS - SALE/DELIVER\n",
      "ACCIDENTS - P.D. REPORTABLE\n",
      "OUTSIDE - O.P.S. OTHER\n",
      "LARCENY - OTHER OR FROM OPEN AREA\n",
      "NARCOTICS - OTHER\n",
      "DISTURBANCE - DOMESTIC\n",
      "SEX OFFENSE - RAPE\n",
      "TELEPHONE - OTHER\n",
      "ASSAULT - NON DOMESTIC\n",
      "FRAUD - CON GAMES/DECEPTION/FALSE    PRETENSE/OTHER\n",
      "ALCOHOL - USING FALSE I.D.\n",
      "SEX OFFENSE - MOLEST/FONDLING\n",
      "TRAFFIC - SUSPENDED DRIVER\n",
      "PROPERTY DAMAGE - UNINTENTIONAL,NON TRAFFIC\n",
      "FRAUD - IMPERSONATION\n",
      "FRAUD - CREDIT CARDS/ATM/BANK CARD\n",
      "ACCIDENTS - P.D. NOT REPORTABLE\n"
     ]
    }
   ],
   "source": [
    "#Clean the data\n",
    "month_clean = clean_data(month_df)\n",
    "#Count the crime occurences\n",
    "month_count = count_crimes(month_clean)"
   ]
  },
  {
   "cell_type": "markdown",
   "metadata": {},
   "source": [
    "## Setup Slack\n",
    "This program is designed to post alerts to Slack. To do so, you need a Slack workspace with a bot user. Get the API token for the bot user and save it as the environment variable `UNLPD_BOT_TOKEN`. Then, this will set up the connection and prepare it to send alerts."
   ]
  },
  {
   "cell_type": "code",
   "execution_count": 13,
   "metadata": {
    "collapsed": true
   },
   "outputs": [],
   "source": [
    "#Get the API token from the environment variable\n",
    "bot_token = os.environ.get('UNLPD_BOT_TOKEN')\n",
    "#Set up the connection to Slack using SlackClient\n",
    "slack_client = SlackClient(bot_token)"
   ]
  },
  {
   "cell_type": "markdown",
   "metadata": {},
   "source": [
    "## Find outliers\n",
    "Finally, we compare this month's data to the historical data using `find_outliers()`. If an alert is created, it prints here, and it also sends to Slack."
   ]
  },
  {
   "cell_type": "code",
   "execution_count": 15,
   "metadata": {},
   "outputs": [
    {
     "name": "stdout",
     "output_type": "stream",
     "text": [
      "This month, there have been 20 NARCOTICS - POSSESSION incidents reported. There are normally 9.5 incidents reported in a month, and one standard deviation above is 15.91.\n",
      "This month, there has been 1 FRAUD - IMPERSONATION incident reported. There are normally 0.17 incidents reported in a month, and one standard deviation above is 0.59.\n",
      "This month, there have been 2 DISTURBANCE - DOMESTIC incidents reported. There are normally 0.48 incidents reported in a month, and one standard deviation above is 1.15.\n",
      "This month, there has been 1 SEX OFFENSE - MOLEST/FONDLING incident reported. There are normally 0.17 incidents reported in a month, and one standard deviation above is 0.59.\n",
      "This month, there has been 1 LARCENY - SHOPLIFTING incident reported. There are normally 0.27 incidents reported in a month, and one standard deviation above is 0.77.\n",
      "This month, there have been 4 SEX OFFENSE - RAPE incidents reported. There are normally 0.35 incidents reported in a month, and one standard deviation above is 1.05.\n",
      "This month, there has been 1 ASSAULT - DOMESTIC incident reported. There are normally 0.34 incidents reported in a month, and one standard deviation above is 0.94.\n",
      "This month, there have been 2 NARCOTICS - SALE/DELIVER incidents reported. There are normally 0.24 incidents reported in a month, and one standard deviation above is 0.87.\n",
      "This month, there have been 2 ALCOHOL - USING FALSE I.D. incidents reported. There are normally 0.19 incidents reported in a month, and one standard deviation above is 0.7.\n",
      "This month, there has been 1 SUSPICIOUS VEHICLE incident reported. There are normally 0.01 incidents reported in a month, and one standard deviation above is 0.13.\n"
     ]
    }
   ],
   "source": [
    "find_outliers(all_years_stats, month_count)"
   ]
  }
 ],
 "metadata": {
  "kernelspec": {
   "display_name": "Python 3",
   "language": "python",
   "name": "python3"
  },
  "language_info": {
   "codemirror_mode": {
    "name": "ipython",
    "version": 3
   },
   "file_extension": ".py",
   "mimetype": "text/x-python",
   "name": "python",
   "nbconvert_exporter": "python",
   "pygments_lexer": "ipython3",
   "version": "3.6.2"
  }
 },
 "nbformat": 4,
 "nbformat_minor": 2
}
