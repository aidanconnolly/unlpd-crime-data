{
 "cells": [
  {
   "cell_type": "markdown",
   "metadata": {},
   "source": [
    "# UNLPD Crime Analysis\n",
    "The goal of this project was to analyze University of Nebraska-Lincoln Police Department crime data to identify when crime reports are abnormally high or low. To do so, I collected 13 years of data from UNLPD, taken from the [Daily Crime and Fire Log](https://scsapps.unl.edu/policereports/MainPage.aspx). This program cleans up that data and calculates the average number of occurrences for each crime in a normal month.  \n",
    "Then, it gets the data for this month. If this month's counts are abnormally high or low, a message is created, which is sent to a Slack channel to notify those who are interested."
   ]
  },
  {
   "cell_type": "markdown",
   "metadata": {},
   "source": [
    "## Requirements\n",
    "This program requires `pandas`, `slackclient` and `selenium`. It also requires a Slack bot API token. More information on how to set up Slack is below."
   ]
  },
  {
   "cell_type": "markdown",
   "metadata": {},
   "source": [
    "## Imports and functions\n",
    "These are the imports and functions needed to run the rest of the program."
   ]
  },
  {
   "cell_type": "markdown",
   "metadata": {},
   "source": [
    "### Imports  \n",
    "First, import the necessary libraries."
   ]
  },
  {
   "cell_type": "code",
   "execution_count": 1,
   "metadata": {
    "collapsed": true
   },
   "outputs": [],
   "source": [
    "import os #To get Slack API key/expand user directory path\n",
    "import pandas as pd #For most data manipulations\n",
    "import json #To prepare message for Slack\n",
    "import requests #To send message to Slack\n",
    "import subprocess #To run in2csv\n",
    "from io import StringIO #To convert a string to a file\n",
    "from datetime import datetime #To check today's date\n",
    "from calendar import monthrange #To find last day of month\n",
    "from selenium import webdriver #To scrape UNLPD's data\n",
    "from selenium.webdriver.common.by import By\n",
    "from selenium.webdriver.support.ui import WebDriverWait\n",
    "from selenium.webdriver.support import expected_conditions as EC"
   ]
  },
  {
   "cell_type": "markdown",
   "metadata": {},
   "source": [
    "### clean_data()\n",
    "This checks the data to make sure it's valid. \n",
    "Then, it removes the currency characters. \n",
    "It fixes some data types, and it creates a new column with the month of each crime. \n",
    "Finally, it sets the index of the dataframe to the Reported column."
   ]
  },
  {
   "cell_type": "code",
   "execution_count": 2,
   "metadata": {
    "collapsed": true
   },
   "outputs": [],
   "source": [
    "def clean_data(df): \n",
    "    # Make sure there are no null values for the Case Number, Reported time, Location, Stolen amount and Damaged amount\n",
    "    assert df['Case #'].count() == len(df) != 0\n",
    "    assert df['Reported'].count() == len(df) != 0\n",
    "    assert df['Location'].count() == len(df) != 0\n",
    "    assert df['Stolen'].count() == len(df) != 0\n",
    "    assert df['Damaged'].count() == len(df) != 0\n",
    "    \n",
    "    #Replace non-numerical characters and cast data type to float\n",
    "    df['Stolen'] = df['Stolen'].str.replace(',','')\n",
    "    df['Stolen'] = df['Stolen'].str.replace('$','')\n",
    "    df['Stolen'] = df['Stolen'].astype(float)\n",
    "    df['Damaged'] = df['Damaged'].str.replace(',','')\n",
    "    df['Damaged'] = df['Damaged'].str.replace('$','')\n",
    "    df['Damaged'] = df['Damaged'].astype(float)\n",
    "    \n",
    "    #Cast data type to datetime\n",
    "    df['Reported'] = pd.to_datetime(df['Reported'])\n",
    "    \n",
    "    #Double-check data types\n",
    "    print(df.dtypes)\n",
    "    \n",
    "    #Create a new column with just the year and month from the Reported column\n",
    "    df['Month'] = df['Reported'].dt.to_period('M')\n",
    "    \n",
    "    #Set index to Reported column; allows for slicing by month\n",
    "    df2 = df.set_index(['Reported'])\n",
    "    \n",
    "    return df2"
   ]
  },
  {
   "cell_type": "markdown",
   "metadata": {},
   "source": [
    "### count_crimes()\n",
    "This counts the occurrences of crimes in a given dataframe.\n",
    "For each type of crime, it slices the data by month.\n",
    "Then it counts how many times the crime appears in that month.\n",
    "Those counts are saved to a dictionary.\n",
    "Finally, the list of dictionaries is converted back to a dataframe.\n",
    "Pass the all_years flag if your data contains more than one month."
   ]
  },
  {
   "cell_type": "code",
   "execution_count": 3,
   "metadata": {
    "collapsed": true
   },
   "outputs": [],
   "source": [
    "def count_crimes(df, all_years=False):\n",
    "    #This holds the dictionary for each crime\n",
    "    months_count = []\n",
    "    #For each crime present in the dataframe\n",
    "    for crime in df['Incident Code'].unique():\n",
    "        print(crime)\n",
    "        crime_dict = {}\n",
    "        crime_dict['Crime'] = crime\n",
    "        #For each month in the dataframe\n",
    "        for month in df['Month'].unique():\n",
    "            #Slice the dataframe for one month's data\n",
    "            month_subset = df[str(month)]\n",
    "            #Filter the subset for instances of the crime\n",
    "            crime_subset = month_subset[month_subset['Incident Code'] == crime]\n",
    "            #If multiple months, save the count with the month\n",
    "            if all_years:\n",
    "                crime_dict[str(month)] = len(crime_subset)\n",
    "            #Otherwise, just save it with \"Month\"\n",
    "            else:\n",
    "                crime_dict['Month'] = len(crime_subset)\n",
    "        #Append the dictionary to the months_count list\n",
    "        months_count.append(crime_dict)\n",
    "    #Convert the list into another dataframe\n",
    "    months_count_df = pd.DataFrame(months_count)\n",
    "    #To help with speed, save it to a csv\n",
    "    if all_years:\n",
    "        months_count_df.to_csv('month_count.csv', index=False)\n",
    "    return months_count_df"
   ]
  },
  {
   "cell_type": "markdown",
   "metadata": {},
   "source": [
    "### calculate_stats()\n",
    "This calculates the mean number of occurences for each crime.\n",
    "Then it calculates the standard deviation.\n",
    "Finally, it creates upper and lower thresholds.\n",
    "Upper threshold equals mean plus 1 standard deviation.\n",
    "Lower threshold equals mean minus 1 standard deviation."
   ]
  },
  {
   "cell_type": "code",
   "execution_count": 4,
   "metadata": {
    "collapsed": true
   },
   "outputs": [],
   "source": [
    "def calculate_stats(df):\n",
    "    #Creates a dataframe with the unique crimes\n",
    "    std_df = df.filter(['Crime'])\n",
    "    #Adds a column with the mean count for each crime\n",
    "    std_df['mean'] = df.mean(axis=1)\n",
    "    #Adds a column with the standard deviation for each crime\n",
    "    std_df['std'] = df.std(axis=1)\n",
    "    #Adds a column with a lower threshold\n",
    "    std_df['lower'] = std_df['mean'] - std_df['std']\n",
    "    #Adds a column with an upper threshold\n",
    "    std_df['upper'] = std_df['mean'] + std_df['std']\n",
    "    #Save the data to a csv\n",
    "    std_df.to_csv('std.csv', index=False)\n",
    "    return std_df"
   ]
  },
  {
   "cell_type": "markdown",
   "metadata": {},
   "source": [
    "### check_last_day()\n",
    "This checks today's date to see if it's the last day of the month. It uses the monthrange function from the calendar library."
   ]
  },
  {
   "cell_type": "code",
   "execution_count": 5,
   "metadata": {},
   "outputs": [],
   "source": [
    "def check_last_day():\n",
    "    #Get today's date\n",
    "    today = datetime.today()\n",
    "    #monthrange(year, month) returns weekday of first day of the month and number of days in month, for the specified year and month.\n",
    "    if today.day == monthrange(today.year, today.month)[1]:\n",
    "        return True\n",
    "    else:\n",
    "        return False"
   ]
  },
  {
   "cell_type": "markdown",
   "metadata": {},
   "source": [
    "### post_to_slack()\n",
    "This sends an API call to Slack to post a message to a specified channel. To get the ID of the channel, navigate to the channel in your browser. The ID will be in the URL after \"/messages/.\""
   ]
  },
  {
   "cell_type": "code",
   "execution_count": 6,
   "metadata": {},
   "outputs": [],
   "source": [
    "def post_to_slack(message):\n",
    "    #Put the message in a dictionary\n",
    "    slack_data = {'text': message}\n",
    "    #Send the message\n",
    "    response = requests.post(\n",
    "        #Convert the dictionary to a JSON object\n",
    "        webhook_url, data=json.dumps(slack_data),\n",
    "        #These headers help Slack interpret the messgae\n",
    "        headers={'Content-Type': 'application/json'}\n",
    "    )\n",
    "    if response.status_code != 200:\n",
    "        raise ValueError(\n",
    "            'Request to slack returned an error {code}, the response is:\\n{text}'.format(\n",
    "                code=response.status_code,\n",
    "                text=response.text,\n",
    "            )\n",
    "        )"
   ]
  },
  {
   "cell_type": "markdown",
   "metadata": {},
   "source": [
    "### find_outliers()\n",
    "This checks the data to see which crimes have crossed the threshold. \n",
    "If it's not the last day of the month, it will only check crimes that have occurred this month for crossing the upper threshold. \n",
    "If it is the last day of the month, it will check all the possible crimes for crossing the upper threshold or not meeting the lower threshold.\n",
    "The `flagged_crimes` list is a list of crimes that will create an alert. We chose these for our purposes, but you can add or remove crimes as you wish.\n",
    "If a crime met a threshold and it's in `flagged_crimes`, it will create a message and send it to Slack using `post_to_slack()`."
   ]
  },
  {
   "cell_type": "code",
   "execution_count": 7,
   "metadata": {},
   "outputs": [],
   "source": [
    "def find_outliers(all_years_stats, month_count):\n",
    "    #This is the list of crimes we decided we were interested in\n",
    "    flagged_crimes = [\n",
    "        \"LOST OR STOLEN ITEM\",\n",
    "        \"FRAUD - CREDIT CARDS/ATM/BANK CARD\",\n",
    "        \"LARCENY - FROM MOTOR VEHICLE\",\n",
    "        \"NARCOTICS - POSSESSION\",\n",
    "        \"BURGLARY\",\n",
    "        \"LARCENY - FROM BUILDING\",\n",
    "        \"ALCOHOL - DWI\",\n",
    "        \"ALCOHOL - DRUNK\",\n",
    "        \"ALCOHOL - MINOR IN POSSESSION\",\n",
    "        \"VANDALISM - OTHER\",\n",
    "        \"LARCENY - STOLEN BIKE\",\n",
    "        \"VANDALISM - BY GRAFFITI\",\n",
    "        \"NARCOTICS - OTHER\",\n",
    "        \"NARCOTICS - SALE/DELIVER\",\n",
    "    ]\n",
    "    #These two templates are used for the messages.\n",
    "    plural_msg = \"This month, there have been {month_total} {crime} incidents reported. There are normally {mean} incidents reported in a month, and one standard deviation {direction} is {bound}.\"\n",
    "    sing_msg = \"This month, there has been {month_total} {crime} incident reported. There are normally {mean} incidents reported in a month, and one standard deviation {direction} is {bound}.\"\n",
    "    \n",
    "    #If it's the last day, merge the data and keep everything\n",
    "    #Then, check the low thresholds\n",
    "    if check_last_day():\n",
    "        merged = pd.merge(all_years_stats, month_count, on='Crime', how='outer')\n",
    "        for index, row in merged.iterrows():\n",
    "            if row['lower'] > row['Month'] and row['Crime'] in flagged_crimes:\n",
    "                #If it has happened more than once, use plural words\n",
    "                if row['Month'] != 1:\n",
    "                    message = plural_msg.format(\n",
    "                        crime=row['Crime'], \n",
    "                        bound=round(row['lower'], 2), \n",
    "                        month_total=row['Month'], \n",
    "                        mean=round(row['mean'], 2),\n",
    "                        direction='below',\n",
    "                    )\n",
    "                #Otherwise, use singular words\n",
    "                else:\n",
    "                    message = sing_msg.format(\n",
    "                       crime=row['Crime'], \n",
    "                       bound=round(row['lower'], 2), \n",
    "                       month_total=row['Month'], \n",
    "                       mean=round(row['mean'], 2),\n",
    "                       direction='below',\n",
    "                    )\n",
    "                #Print the message here\n",
    "                print(message)\n",
    "                #Post the message to Slack\n",
    "                post_to_slack(message)\n",
    "    #Otherwise, only keep the data for crimes that have happened this month\n",
    "    else:\n",
    "        merged = pd.merge(all_years_stats, month_count, on='Crime', how='inner')\n",
    "    #For each row, check if the count has crossed the upper bound\n",
    "    for index, row in merged.iterrows():\n",
    "        if row['upper'] < row['Month'] and row['Crime'] in flagged_crimes:\n",
    "            #If it has happened more than once, use plural words\n",
    "            if row['Month'] != 1:\n",
    "                plural_msg.format(\n",
    "                    crime=row['Crime'], \n",
    "                    bound=round(row['upper'], 2), \n",
    "                    month_total=row['Month'], \n",
    "                    mean=round(row['mean'], 2),\n",
    "                    direction='above',\n",
    "                )\n",
    "            #Otherwise, use singular words\n",
    "            else:\n",
    "                message = sing_msg.format(\n",
    "                    crime=row['Crime'], \n",
    "                    bound=round(row['upper'], 2), \n",
    "                    month_total=row['Month'], \n",
    "                    mean=round(row['mean'], 2),\n",
    "                    direction='above',\n",
    "                )\n",
    "            #Print the message here\n",
    "            print(message)\n",
    "            #Post the message to Slack\n",
    "            post_to_slack(message)"
   ]
  },
  {
   "cell_type": "markdown",
   "metadata": {},
   "source": [
    "## Preparing the historical data\n",
    "This works with a csv of historical data. I created it by downloading all the crimes for each year and concatenating them into one file. It reads the file into a Pandas dataframe and runs the `clean_data()`, `count_crimes()` and `calculate_stats()` functions on it."
   ]
  },
  {
   "cell_type": "code",
   "execution_count": 8,
   "metadata": {
    "scrolled": true
   },
   "outputs": [
    {
     "name": "stdout",
     "output_type": "stream",
     "text": [
      "Case #                    object\n",
      "Incident Code             object\n",
      "Reported          datetime64[ns]\n",
      "Case Status               object\n",
      "Start Occurred            object\n",
      "End Occurred              object\n",
      "Building                  object\n",
      "Location                  object\n",
      "Stolen                   float64\n",
      "Damaged                  float64\n",
      "Summary                   object\n",
      "dtype: object\n",
      "nan\n",
      "LOST OR STOLEN ITEM\n",
      "FRAUD - CREDIT CARDS/ATM/BANK CARD\n",
      "ACCIDENTS - P.D. REPORTABLE\n",
      "LARCENY - FROM MOTOR VEHICLE\n",
      "ACCIDENTS - P.D. NOT REPORTABLE\n",
      "NARCOTICS - POSSESSION\n",
      "BURGLARY\n",
      "LARCENY - FROM BUILDING\n",
      "ALCOHOL - DWI\n",
      "ACCIDENTS - P.D. H&R REPORTABLE\n",
      "ACCIDENTS - P.D. H&R NOT REPORTABLE\n",
      "ASSAULT - NON DOMESTIC\n",
      "DISTURBANCE - OTHER\n",
      "MISC - OTHER\n",
      "OUTSIDE - O.P.S. OTHER\n",
      "MEDICAL EMERGENCY\n",
      "FIRE (WORKING) - ALARM\n",
      "ALCOHOL - DRUNK\n",
      "ALCOHOL - MINOR IN POSSESSION\n",
      "LARCENY - GAS FROM SELF SERVICE PUMP\n",
      "VANDALISM - OTHER\n",
      "LARCENY - MOTOR VEH. ACCESSORIES\n",
      "LARCENY - OTHER OR FROM OPEN AREA\n",
      "WEAPONS _ OTHER\n",
      "SS - CHECK WELFARE OF PERSON\n",
      "TRESPASSING\n",
      "SUSPICIOUS PERSON\n",
      "LARCENY - STOLEN BIKE\n",
      "FIRE - FALSE ALARM\n",
      "TRAFFIC - OTHER\n",
      "TRAFFIC - SUSPENDED DRIVER\n",
      "VANDALISM - BY GRAFFITI\n",
      "WEAPONS - CONCEALED\n",
      "PROPERTY DAMAGE - UNINTENTIONAL,NON TRAFFIC\n",
      "ARSON\n",
      "ASSAULT - OF POLICE OFFICER\n",
      "WEAPONS - DISCHARGE IN CITY\n",
      "TELEPHONE - OTHER\n",
      "TELEPHONE - THREATENING CALLS\n",
      "MISSING PERSON - ADULT\n",
      "AUTO THEFT\n",
      "NARCOTICS - OTHER\n",
      "ALCOHOL - UNL POLICY VIOLATION\n",
      "LITTERING\n",
      "TELEPHONE - OBSCENE CALLS\n",
      "LARCENY - FROM COIN OPERATED MACH.\n",
      "ROBBERY\n",
      "ALCOHOL - CONSUMPTION IN PUBLIC\n",
      "FRAUD - IMPERSONATION\n",
      "ACCIDENTS - INJURY\n",
      "STALKING\n",
      "DISTURBANCE - DOMESTIC\n",
      "SEX OFFENSE - STATUTORY RAPE\n",
      "WEAPONS - ILLEGAL WEAPON\n",
      "WARRANT SERVICE\n",
      "KIDNAPPING\n",
      "JUVENILE - NOT OTHERWISE CLASSIFIED\n",
      "OUTSIDE - O.P.S. ACCIDENT\n",
      "SEX OFFENSE - INDECENT EXPOSURE\n",
      "FIRE (WORKING) - NO ALARM\n",
      "FRAUD - CON GAMES/DECEPTION/FALSE    PRETENSE/OTHER\n",
      "SEX OFFENSE - ATTEMPT RAPE\n",
      "MISSING PERSON - JUVENILE,(INCLUDES RUNAWAY)\n",
      "ANIMAL - All CALLS OTHER THAN DOGS\n",
      "CHILD ABUSE/NEG - UNATTENDED, OTHER\n",
      "FORGERY - COUNTERFEIT MONEY/COINS\n",
      "LARCENY - POCKET PICK\n",
      "DEATH - UNK CAUSE\n",
      "FORGERY - CHECKS\n",
      "FRAUD, FAIL TO PAY\n",
      "SEX OFFENSE - MOLEST/FONDLING\n",
      "UNL POLICY VIOLATION - WEAPONS\n",
      "LARCENY - SHOPLIFTING\n",
      "ACCIDENTS - INJURY H&R\n",
      "SEX OFFENSE - RAPE\n",
      "SS - ASSIST CITIZEN\n",
      "SS - OTHER\n",
      "PROTECTION ORDER VIOLATION\n",
      "ALCOHOL - LIQUOR LICENSE VIOLATION\n",
      "SEX OFFENSE - OTHER\n",
      "FND ARTICLE OTHER THAN ABAND. BIKE OR VEH.\n",
      "FALSE INFORMATION - GIVEN TO OFC.\n",
      "SUSPICIOUS ITEM OR PACKAGE (NON-EXPLOSIVE)\n",
      "AUTO THEFT - STOLEN ELSEWHERE, FOUND IN  LINCOLN\n",
      "FRAUD - CHECKS INSUF/NO ACC/NOT FORGED\n",
      "HAZARDS - NON-TRAFFIC (WIRES,TREES,ETC)\n",
      "ASSAULT - DOMESTIC\n",
      "SOLICIT/SELL - WITHOUT LICENSE\n",
      "DISTURBANCE - WILD PARTY\n",
      "NARCOTICS - SALE/DELIVER\n",
      "FORGERY - CREDIT CARDS\n",
      "DISTURBANCE - BETWEEN NEIGHBORS\n",
      "FORGERY - ALL OTHER\n",
      "OUTSIDE CRIME - REPORTS OUTSIDE JURISDICTION\n",
      "FIREWORKS - DISTURBANCE\n",
      "ANIMAL - OTHER DOG CALL\n",
      "FALSE SECURITY ALARMS - EMPLOYEE\n",
      "FRAUD - FAIL TO RETURN RENTED/BORROWED ITEM\n",
      "ALCOHOL - POSSESSION IN PARK\n",
      "ALCOHOL - USING FALSE I.D.\n",
      "PORNOGRAPHY\n",
      "WEAPONS - FELON IN POSSESSION\n",
      "BOMB - SUSPICIOUS PACKAGE/DEVICE\n",
      "BOMB - THREAT\n",
      "ABANDONED BICYCLE\n",
      "TRAFFIC - IMPROPER REGISTRATION\n",
      "UNL POLICY VIOLATION -OTHER\n",
      "SUSPICIOUS VEHICLE\n",
      "ANIMAL - DOG BITE TO PERSON\n",
      "MEDICAL - INHALE INTOXICANT OR HARMFUL VAPORS\n",
      "LARCENY - PURSE SNATCH\n",
      "VANDALISM - BY DRIVE BY SHOOTING\n",
      "BOMB - EXPLOSION\n",
      "SS - CIVIL STANDBY\n",
      "ALCOHOL - BUY/PROCURE FOR MINORS\n",
      "CRIME PREVENTION - OTHER THAN PRESENTATION\n",
      "HAZING\n",
      "LOCK/UNLOCK BUILDING OR ROOM\n",
      "PARKING - OTHER\n",
      "RECEIVE STOLEN PROP\n",
      "HAZARDS - TRAFFIC HAZARDS OTHER\n",
      "HEALTH/SANITATION - VIOLATIONS OF HEALTH CODES\n",
      "PROWLER\n",
      "CHILD ABUSE/NEG - UNATTENDED IN VEH\n",
      "EMBEZZLEMENT\n",
      "CHILD ABUSE/NEG _ LOST/FOUND CHILD\n",
      "ACCIDENTS - FATALITY\n",
      "FIREWORKS - ILLEGAL POSS/SALE BY ADULT\n",
      "FALSE SECURITY ALARMS - MECHANICAL\n",
      "ANIMAL - DOG RUNNING LOOSE\n",
      "DEATH - NATURAL\n",
      "FALSE INFORMATION - GIVEN TO CITIZEN\n",
      "ALCOHOL - OPEN CONTAINER\n",
      "TRAFFIC - DIRECTION\n",
      "EXTORTION\n",
      "MISSING PERSON - OUTSIDE JURISDICTION\n",
      "SEX OFFENSE - SODOMY\n",
      "CHILD ABUSE/NEG - PHYSICAL ABUSE\n",
      "CHILD ABUSE/NEG _ VERBAL/EMOTIONAL\n",
      "ESCORT - OTHER\n",
      "DEATH - SUICIDE\n",
      "WEAPONS – OTHER\n"
     ]
    }
   ],
   "source": [
    "#Read in the csv file\n",
    "all_years = pd.read_csv('original_data/all_years.csv')\n",
    "#Clean the data\n",
    "all_years_clean = clean_data(all_years)\n",
    "#Count the crime occurences\n",
    "all_years_count = count_crimes(all_years_clean, all_years=True)\n",
    "#Calculate the thresholds\n",
    "all_years_stats = calculate_stats(all_years_count)"
   ]
  },
  {
   "cell_type": "markdown",
   "metadata": {},
   "source": [
    "### To use the stats data without recalculating it:\n",
    "The previous cell can take a while to run, so the next cell just uses the csv that is written during the `calculate_stats()` function."
   ]
  },
  {
   "cell_type": "code",
   "execution_count": 9,
   "metadata": {
    "collapsed": true
   },
   "outputs": [],
   "source": [
    "#This pulls the most recent saved csv\n",
    "all_years_stats = pd.read_csv('std.csv')"
   ]
  },
  {
   "cell_type": "markdown",
   "metadata": {},
   "source": [
    "## Finding current totals\n",
    "Once the historical data is prepared, the next step is to check this month's data against it."
   ]
  },
  {
   "cell_type": "markdown",
   "metadata": {},
   "source": [
    "### Downloading this month's data\n",
    "This uses selenium to get this month's data.\n",
    "It opens an instance of Google Chrome.\n",
    "Then, it fills out the forms to access the data.\n",
    "Finally, it downloads the csv, likely to your downloads folder."
   ]
  },
  {
   "cell_type": "code",
   "execution_count": 10,
   "metadata": {
    "collapsed": true
   },
   "outputs": [],
   "source": [
    "#This is needed to set up selenium\n",
    "#os.path.expanduser allows the use of a '~'\n",
    "path_to_chromedriver = os.path.expanduser('~/Downloads/chromedriver')\n",
    "browser = webdriver.Chrome(executable_path=path_to_chromedriver)\n",
    "#The URL to the Daily Crime and Fire Log\n",
    "url = \"https://scsapps.unl.edu/policereports/MainPage.aspx\"\n",
    "#Go to the URL\n",
    "browser.get(url)\n",
    "#Find the advanced search button and click it\n",
    "browser.find_element_by_id('ctl00_ContentPlaceHolder1_AdvancedSearchButton').click()\n",
    "#Find the first date field, hit tab and hit '01'. \n",
    "#This sets the date to the first day of the month\n",
    "browser.find_element_by_id('ctl00_ContentPlaceHolder1_DateRange_MonthText1').send_keys('\\t01')\n",
    "#Find the search button and click it\n",
    "browser.find_element_by_id('ctl00_ContentPlaceHolder1_SearchButton').click()\n",
    "#Switch to the iframe on the page\n",
    "browser.switch_to.frame(browser.find_element_by_id('ctl00_ContentPlaceHolder1_ViewPort'))\n",
    "#Find the export button once the iframe loads and click it\n",
    "export_button = WebDriverWait(browser, 10).until(\n",
    "    EC.presence_of_element_located((By.ID,'ExportButton'))\n",
    ")\n",
    "export_button.click()"
   ]
  },
  {
   "cell_type": "markdown",
   "metadata": {},
   "source": [
    "### Converting the data to a dataframe\n",
    "Once this month's data is downloaded, we need to bring it in here. Be warned, this is assuming the file has the generic name given by UNLPD. If you have another copy in the folder from earlier, your new copy will have (1) after it, causing you to not use the new file.  \n",
    "Once we get the data, we need to prepare it. So, this converts it from an Excel file to a csv using `in2csv`. Since `in2csv` is run from the command line, I used subprocess to run it here. `StringIO` converts the string returned by `in2csv` into a file to read into a dataframe. The first eight rows are skipped to remove the junk at the top of the downloaded file."
   ]
  },
  {
   "cell_type": "code",
   "execution_count": 12,
   "metadata": {
    "collapsed": true
   },
   "outputs": [],
   "source": [
    "#Runs in2csv on the downloaded file and converts it to UTF-8\n",
    "csv_data = subprocess.check_output(\n",
    "    [\"in2csv\", os.path.expanduser(\"~/Downloads/DailyCrimeLogSummary.xls\")]\n",
    ").decode(\"utf-8\")\n",
    "#Creates a file instance for pandas to use on the next line\n",
    "csv_file_instance = StringIO(csv_data)\n",
    "#Reads in the csv to a dataframe, skipping the first eight rows\n",
    "month_df = pd.read_csv(csv_file_instance, skiprows=8)"
   ]
  },
  {
   "cell_type": "markdown",
   "metadata": {},
   "source": [
    "Next, we run the data through the same cleaning and counting functions as our historical data."
   ]
  },
  {
   "cell_type": "code",
   "execution_count": 13,
   "metadata": {
    "scrolled": true
   },
   "outputs": [
    {
     "name": "stdout",
     "output_type": "stream",
     "text": [
      "Case #                     int64\n",
      "Incident Code             object\n",
      "Reported          datetime64[ns]\n",
      "Case Status               object\n",
      "Start Occurred            object\n",
      "End Occurred              object\n",
      "Building                  object\n",
      "Location                  object\n",
      "Stolen                   float64\n",
      "Damaged                  float64\n",
      "Summary                   object\n",
      "dtype: object\n",
      "ALCOHOL - MINOR IN POSSESSION\n",
      "LARCENY - STOLEN BIKE\n",
      "WEAPONS - CONCEALED\n",
      "ACCIDENTS - P.D. REPORTABLE\n",
      "OUTSIDE - O.P.S. CHEMICAL TESTING\n",
      "ALCOHOL - DWI\n",
      "NARCOTICS - POSSESSION\n",
      "VANDALISM - OTHER\n",
      "LARCENY - FROM MOTOR VEHICLE\n",
      "ACCIDENTS - P.D. H&R NOT REPORTABLE\n",
      "ACCIDENTS - P.D. NOT REPORTABLE\n",
      "SS - CHECK WELFARE OF PERSON\n",
      "ALCOHOL - DRUNK\n",
      "ASSAULT - NON DOMESTIC\n",
      "DISTURBANCE - OTHER\n",
      "ALCOHOL - USING FALSE I.D.\n",
      "LOST OR STOLEN ITEM\n",
      "TRAFFIC - SUSPENDED DRIVER\n",
      "LARCENY - FROM BUILDING\n"
     ]
    }
   ],
   "source": [
    "#Clean the data\n",
    "month_clean = clean_data(month_df)\n",
    "#Count the crime occurences\n",
    "month_count = count_crimes(month_clean)"
   ]
  },
  {
   "cell_type": "markdown",
   "metadata": {},
   "source": [
    "## Setup Slack\n",
    "This program is designed to post alerts to Slack. To do so, you need a Slack workspace with an Incoming Webhook. Then, save the Webhook URL as an environment variable `SLACK_URL`, or replace `os.environ.get('SLACK_URL')` with your URL."
   ]
  },
  {
   "cell_type": "code",
   "execution_count": 14,
   "metadata": {
    "collapsed": true
   },
   "outputs": [],
   "source": [
    "webhook_url = os.environ.get('SLACK_URL')"
   ]
  },
  {
   "cell_type": "markdown",
   "metadata": {},
   "source": [
    "## Find outliers\n",
    "Finally, we compare this month's data to the historical data using `find_outliers()`. If an alert is created, it prints here, and it also sends to Slack."
   ]
  },
  {
   "cell_type": "code",
   "execution_count": 15,
   "metadata": {},
   "outputs": [],
   "source": [
    "find_outliers(all_years_stats, month_count)"
   ]
  }
 ],
 "metadata": {
  "kernelspec": {
   "display_name": "Python 3",
   "language": "python",
   "name": "python3"
  },
  "language_info": {
   "codemirror_mode": {
    "name": "ipython",
    "version": 3
   },
   "file_extension": ".py",
   "mimetype": "text/x-python",
   "name": "python",
   "nbconvert_exporter": "python",
   "pygments_lexer": "ipython3",
   "version": "3.6.2"
  }
 },
 "nbformat": 4,
 "nbformat_minor": 2
}
